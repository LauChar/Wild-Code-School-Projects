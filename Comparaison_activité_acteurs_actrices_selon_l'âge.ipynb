{
  "nbformat": 4,
  "nbformat_minor": 0,
  "metadata": {
    "colab": {
      "provenance": [],
      "collapsed_sections": []
    },
    "kernelspec": {
      "name": "python3",
      "display_name": "Python 3"
    },
    "language_info": {
      "name": "python"
    }
  },
  "cells": [
    {
      "cell_type": "markdown",
      "source": [
        "Objectif : comparer l'évolution de l'activité en fonction de l'âge entre les acteurs et les actrices. "
      ],
      "metadata": {
        "id": "1hjAI1Yv9XCW"
      }
    },
    {
      "cell_type": "code",
      "source": [
        "import numpy as np\n",
        "import pandas as pd\n",
        "import seaborn as sns"
      ],
      "metadata": {
        "id": "aEpXRFcF9x9o"
      },
      "execution_count": 1,
      "outputs": []
    },
    {
      "cell_type": "markdown",
      "source": [
        "### Import DataFrames"
      ],
      "metadata": {
        "id": "leOPyvtAf-zO"
      }
    },
    {
      "cell_type": "code",
      "source": [
        "title_principals_actors = pd.read_csv('/content/drive/MyDrive/Wild Code School - Data Analyst/Projet 2/Travail solo/title_principals_actors', index_col=[0])"
      ],
      "metadata": {
        "id": "QwHfDNdc9uv_"
      },
      "execution_count": 2,
      "outputs": []
    },
    {
      "cell_type": "code",
      "source": [
        "name_basics_actors = pd.read_csv('/content/drive/MyDrive/Wild Code School - Data Analyst/Projet 2/Travail solo/name_basics_actor', index_col=[0])"
      ],
      "metadata": {
        "id": "h4ZCmpmBgVPH"
      },
      "execution_count": 3,
      "outputs": []
    },
    {
      "cell_type": "code",
      "source": [
        "title_basics_movies = pd.read_csv('/content/drive/MyDrive/Wild Code School - Data Analyst/Projet 2/Travail solo/title_basics_movies', index_col=[0])"
      ],
      "metadata": {
        "id": "BjOSdmwBgk_w"
      },
      "execution_count": 4,
      "outputs": []
    },
    {
      "cell_type": "markdown",
      "source": [
        "### Merge DataFrames"
      ],
      "metadata": {
        "id": "pq_OylG6gFJD"
      }
    },
    {
      "cell_type": "code",
      "source": [
        "actors_movies = pd.merge(title_basics_movies, title_principals_actors, how='inner', on='tconst')"
      ],
      "metadata": {
        "id": "LL-AJo4YgvpQ"
      },
      "execution_count": 5,
      "outputs": []
    },
    {
      "cell_type": "code",
      "source": [
        "actors_movies = pd.merge(actors_movies, name_basics_actors, how = 'left', on='nconst')"
      ],
      "metadata": {
        "id": "XfUzkpUPiSVK"
      },
      "execution_count": 6,
      "outputs": []
    },
    {
      "cell_type": "markdown",
      "source": [
        "### Transformer les formats de dates"
      ],
      "metadata": {
        "id": "dLdUCOODjxS2"
      }
    },
    {
      "cell_type": "code",
      "source": [
        "actors_movies['startYear'] = pd.to_datetime(actors_movies['startYear'], format = '%Y')"
      ],
      "metadata": {
        "id": "uRDjFHUpkgvb"
      },
      "execution_count": 7,
      "outputs": []
    },
    {
      "cell_type": "code",
      "source": [
        "actors_movies['birthYear'][actors_movies['nconst']=='nm8810146']=1951.0"
      ],
      "metadata": {
        "colab": {
          "base_uri": "https://localhost:8080/"
        },
        "id": "cakW3CucnGAi",
        "outputId": "48b3ddea-92e8-41a7-e0f8-d24181929008"
      },
      "execution_count": 8,
      "outputs": [
        {
          "output_type": "stream",
          "name": "stderr",
          "text": [
            "/usr/local/lib/python3.7/dist-packages/ipykernel_launcher.py:1: SettingWithCopyWarning: \n",
            "A value is trying to be set on a copy of a slice from a DataFrame\n",
            "\n",
            "See the caveats in the documentation: https://pandas.pydata.org/pandas-docs/stable/user_guide/indexing.html#returning-a-view-versus-a-copy\n",
            "  \"\"\"Entry point for launching an IPython kernel.\n"
          ]
        }
      ]
    },
    {
      "cell_type": "code",
      "source": [
        "actors_movies['birthYear'][actors_movies['nconst']=='nm1620433']=1956.0"
      ],
      "metadata": {
        "colab": {
          "base_uri": "https://localhost:8080/"
        },
        "id": "uyS9TACfFiZJ",
        "outputId": "c37ed9be-31cc-40dd-c3e2-80af46b9270c"
      },
      "execution_count": 9,
      "outputs": [
        {
          "output_type": "stream",
          "name": "stderr",
          "text": [
            "/usr/local/lib/python3.7/dist-packages/ipykernel_launcher.py:1: SettingWithCopyWarning: \n",
            "A value is trying to be set on a copy of a slice from a DataFrame\n",
            "\n",
            "See the caveats in the documentation: https://pandas.pydata.org/pandas-docs/stable/user_guide/indexing.html#returning-a-view-versus-a-copy\n",
            "  \"\"\"Entry point for launching an IPython kernel.\n"
          ]
        }
      ]
    },
    {
      "cell_type": "code",
      "source": [
        "actors_movies['birthYear'] = pd.to_datetime(actors_movies['birthYear'], format = '%Y')"
      ],
      "metadata": {
        "id": "thT7APc_m1HB"
      },
      "execution_count": 10,
      "outputs": []
    },
    {
      "cell_type": "code",
      "source": [
        "actors_movies['deathYear'] = pd.to_datetime(actors_movies['deathYear'], format = '%Y')"
      ],
      "metadata": {
        "id": "kj0tpE5ym3Yv"
      },
      "execution_count": 11,
      "outputs": []
    },
    {
      "cell_type": "markdown",
      "source": [
        "### Supprimer les lignes sans nom/année de naissance créées par la jointure"
      ],
      "metadata": {
        "id": "GtBKn3Ceks6_"
      }
    },
    {
      "cell_type": "code",
      "source": [
        "actors_movies = actors_movies[actors_movies['birthYear'].notna()] "
      ],
      "metadata": {
        "id": "9-rVVweAlSiM"
      },
      "execution_count": 12,
      "outputs": []
    },
    {
      "cell_type": "markdown",
      "source": [
        "### Calculer l'âge lors de l'année de sortie du film"
      ],
      "metadata": {
        "id": "RnUn-ONWkhN3"
      }
    },
    {
      "cell_type": "code",
      "execution_count": 13,
      "metadata": {
        "id": "E-aW8dyn9NrY",
        "colab": {
          "base_uri": "https://localhost:8080/"
        },
        "outputId": "2747aba9-4593-4613-a394-6ebb43bbb893"
      },
      "outputs": [
        {
          "output_type": "stream",
          "name": "stderr",
          "text": [
            "/usr/local/lib/python3.7/dist-packages/ipykernel_launcher.py:1: SettingWithCopyWarning: \n",
            "A value is trying to be set on a copy of a slice from a DataFrame.\n",
            "Try using .loc[row_indexer,col_indexer] = value instead\n",
            "\n",
            "See the caveats in the documentation: https://pandas.pydata.org/pandas-docs/stable/user_guide/indexing.html#returning-a-view-versus-a-copy\n",
            "  \"\"\"Entry point for launching an IPython kernel.\n"
          ]
        }
      ],
      "source": [
        "actors_movies['age'] = (actors_movies['startYear'] - actors_movies['birthYear'])/ np.timedelta64(1, 'Y')"
      ]
    },
    {
      "cell_type": "code",
      "source": [
        "actors_movies['age'] = actors_movies['age'].dropna().astype(int)"
      ],
      "metadata": {
        "id": "goM_ZYjYpSuU",
        "colab": {
          "base_uri": "https://localhost:8080/"
        },
        "outputId": "32e2680d-6328-437a-c597-f78b8251f32a"
      },
      "execution_count": 14,
      "outputs": [
        {
          "output_type": "stream",
          "name": "stderr",
          "text": [
            "/usr/local/lib/python3.7/dist-packages/ipykernel_launcher.py:1: SettingWithCopyWarning: \n",
            "A value is trying to be set on a copy of a slice from a DataFrame.\n",
            "Try using .loc[row_indexer,col_indexer] = value instead\n",
            "\n",
            "See the caveats in the documentation: https://pandas.pydata.org/pandas-docs/stable/user_guide/indexing.html#returning-a-view-versus-a-copy\n",
            "  \"\"\"Entry point for launching an IPython kernel.\n"
          ]
        }
      ]
    },
    {
      "cell_type": "code",
      "source": [
        "actors_movies = actors_movies[(actors_movies['age']>0) & (actors_movies['age']<101)] "
      ],
      "metadata": {
        "id": "oOsaq6aQpn0N"
      },
      "execution_count": 26,
      "outputs": []
    },
    {
      "cell_type": "markdown",
      "source": [
        "### Identifier les erreurs de catégorisation actor/actress"
      ],
      "metadata": {
        "id": "gSgy5IBj0M4z"
      }
    },
    {
      "cell_type": "code",
      "source": [
        "actors_movies[actors_movies['category'] != actors_movies['primaryProfession']]"
      ],
      "metadata": {
        "id": "I6zVd8f8zvdT"
      },
      "execution_count": null,
      "outputs": []
    },
    {
      "cell_type": "code",
      "source": [
        "# Chris Pratt\n",
        "\n",
        "actors_movies['category'][actors_movies['nconst']=='nm0695435'] = 'actor'\n",
        "actors_movies['primaryProfession'][actors_movies['nconst']=='nm0695435'] = 'actor'"
      ],
      "metadata": {
        "id": "hskFWrqZ1D1G"
      },
      "execution_count": 16,
      "outputs": []
    },
    {
      "cell_type": "code",
      "source": [
        "actors_movies.drop(['primaryProfession'],1,inplace=True)"
      ],
      "metadata": {
        "colab": {
          "base_uri": "https://localhost:8080/"
        },
        "id": "MSLOvb6zlrp6",
        "outputId": "0b231390-853f-4fa0-ca98-dbf217ac99a7"
      },
      "execution_count": 17,
      "outputs": [
        {
          "output_type": "stream",
          "name": "stderr",
          "text": [
            "/usr/local/lib/python3.7/dist-packages/ipykernel_launcher.py:1: FutureWarning: In a future version of pandas all arguments of DataFrame.drop except for the argument 'labels' will be keyword-only\n",
            "  \"\"\"Entry point for launching an IPython kernel.\n"
          ]
        }
      ]
    },
    {
      "cell_type": "markdown",
      "source": [
        "### Explorations"
      ],
      "metadata": {
        "id": "mz3CJdGzlhBP"
      }
    },
    {
      "cell_type": "code",
      "source": [
        "ax1 = sns.boxplot(data = actors_movies,\n",
        "            x = 'age',\n",
        "            y = 'category')\n",
        "\n",
        "ax1.set_xticks([0,10,20,30,40,50,60,70,80,90,100])\n",
        "ax1.set_xticklabels([0,10,20,30,40,50,60,70,80,90,100])"
      ],
      "metadata": {
        "colab": {
          "base_uri": "https://localhost:8080/",
          "height": 470
        },
        "id": "tizyRc1gndIK",
        "outputId": "690faea3-0c56-4457-ecc4-faeb3760728d"
      },
      "execution_count": 53,
      "outputs": [
        {
          "output_type": "execute_result",
          "data": {
            "text/plain": [
              "[Text(0, 0, '0'),\n",
              " Text(0, 0, '10'),\n",
              " Text(0, 0, '20'),\n",
              " Text(0, 0, '30'),\n",
              " Text(0, 0, '40'),\n",
              " Text(0, 0, '50'),\n",
              " Text(0, 0, '60'),\n",
              " Text(0, 0, '70'),\n",
              " Text(0, 0, '80'),\n",
              " Text(0, 0, '90'),\n",
              " Text(0, 0, '100')]"
            ]
          },
          "metadata": {},
          "execution_count": 53
        },
        {
          "output_type": "display_data",
          "data": {
            "text/plain": [
              "<Figure size 432x288 with 1 Axes>"
            ],
            "image/png": "[encoded data removed]"
          },
          "metadata": {
            "needs_background": "light"
          }
        }
      ]
    },
    {
      "cell_type": "code",
      "source": [
        "ax2 = sns.countplot(data = actors_movies,\n",
        "            x = 'age',\n",
        "            hue = 'category')\n",
        "\n",
        "ax2.set_xticks([0,10,20,30,40,50,60,70,80,90])\n",
        "ax2.set_xticklabels([0,10,20,30,40,50,60,70,80,90])"
      ],
      "metadata": {
        "colab": {
          "base_uri": "https://localhost:8080/",
          "height": 453
        },
        "id": "fA9eQx2enzyE",
        "outputId": "106d021e-5f0f-40f7-97bd-568d84113b6f"
      },
      "execution_count": 54,
      "outputs": [
        {
          "output_type": "execute_result",
          "data": {
            "text/plain": [
              "[Text(0, 0, '0'),\n",
              " Text(0, 0, '10'),\n",
              " Text(0, 0, '20'),\n",
              " Text(0, 0, '30'),\n",
              " Text(0, 0, '40'),\n",
              " Text(0, 0, '50'),\n",
              " Text(0, 0, '60'),\n",
              " Text(0, 0, '70'),\n",
              " Text(0, 0, '80'),\n",
              " Text(0, 0, '90')]"
            ]
          },
          "metadata": {},
          "execution_count": 54
        },
        {
          "output_type": "display_data",
          "data": {
            "text/plain": [
              "<Figure size 432x288 with 1 Axes>"
            ],
            "image/png": "[encoded data removed]"
          },
          "metadata": {
            "needs_background": "light"
          }
        }
      ]
    },
    {
      "cell_type": "code",
      "source": [
        "actors_movies['age'][actors_movies['category']=='actress'].mean()"
      ],
      "metadata": {
        "colab": {
          "base_uri": "https://localhost:8080/"
        },
        "id": "ChaCFvbS51K4",
        "outputId": "a652539d-3faa-4ddd-e21d-a2ccf974a9a6"
      },
      "execution_count": 37,
      "outputs": [
        {
          "output_type": "execute_result",
          "data": {
            "text/plain": [
              "32.86758347260752"
            ]
          },
          "metadata": {},
          "execution_count": 37
        }
      ]
    },
    {
      "cell_type": "code",
      "source": [
        "actors_movies['age'][actors_movies['category']=='actor'].mean()"
      ],
      "metadata": {
        "colab": {
          "base_uri": "https://localhost:8080/"
        },
        "id": "qetFxKqY6CAT",
        "outputId": "33b445c2-e6be-40fe-dc60-2aabecbaa86f"
      },
      "execution_count": 40,
      "outputs": [
        {
          "output_type": "execute_result",
          "data": {
            "text/plain": [
              "41.13571650001319"
            ]
          },
          "metadata": {},
          "execution_count": 40
        }
      ]
    }
  ]
}